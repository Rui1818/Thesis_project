{
 "cells": [
  {
   "cell_type": "code",
   "execution_count": 1,
   "id": "d227889c",
   "metadata": {},
   "outputs": [],
   "source": [
    "import numpy as np\n",
    "import os\n",
    "import glob\n",
    "import torch\n",
    "from data_loaders.dataloader3d import get_dataloader, load_data, MotionDataset"
   ]
  },
  {
   "cell_type": "code",
   "execution_count": 26,
   "id": "814a927f",
   "metadata": {},
   "outputs": [],
   "source": [
    "def subtract_root(data):\n",
    "    #only after frames have been cut\n",
    "    root = (data[0,8,:]+data[0, 9, :])/2\n",
    "    return data - root"
   ]
  },
  {
   "cell_type": "code",
   "execution_count": null,
   "id": "264cf22d",
   "metadata": {},
   "outputs": [],
   "source": [
    "def normalize_height(data):\n",
    "    head = (data[:, 2, :] + data[:, 5, :]) / 2\n",
    "    root = (data[:, 8, :] + data[:, 9, :]) / 2\n",
    "    height = np.linalg.norm(head - root, axis=1, keepdims=True)\n",
    "    print(height.shape)\n",
    "    return data[...,1]/(height[:,None,:]+1e-8)"
   ]
  },
  {
   "cell_type": "code",
   "execution_count": 2,
   "id": "b6a58052",
   "metadata": {},
   "outputs": [],
   "source": [
    "def drop_duplicate_frames(data):\n",
    "    \"\"\"\n",
    "    Drop frames where all 25 rows are identical.\n",
    "    \n",
    "    Parameters:\n",
    "    -----------\n",
    "    data : numpy.ndarray\n",
    "        Array with shape (frames, 25, 5)\n",
    "    \n",
    "    Returns:\n",
    "    --------\n",
    "    numpy.ndarray\n",
    "        Filtered array with duplicate frames removed\n",
    "    \"\"\"\n",
    "    first_row = data[:, 0:1, :]  # Shape: (frames, 1, 5)\n",
    "    all_rows_same = np.all(data == first_row, axis=(1,2))\n",
    "\n",
    "    mask = ~all_rows_same\n",
    "    return data[mask]"
   ]
  },
  {
   "cell_type": "code",
   "execution_count": 3,
   "id": "acf76a5f",
   "metadata": {},
   "outputs": [],
   "source": [
    "data=np.load(\"data_example/700/vitpose_c1_a4_2/vitpose/keypoints_3d/smpl-keypoints-3d_cut.npy\")"
   ]
  },
  {
   "cell_type": "code",
   "execution_count": 20,
   "id": "aba1097c",
   "metadata": {},
   "outputs": [],
   "source": [
    "data=drop_duplicate_frames(data)"
   ]
  },
  {
   "cell_type": "code",
   "execution_count": 23,
   "id": "6ca361c7",
   "metadata": {},
   "outputs": [
    {
     "name": "stdout",
     "output_type": "stream",
     "text": [
      "(164, 1)\n"
     ]
    }
   ],
   "source": [
    "data2=normalize_height(subtract_root(data))"
   ]
  },
  {
   "cell_type": "code",
   "execution_count": 24,
   "id": "9ffed11a",
   "metadata": {},
   "outputs": [
    {
     "data": {
      "text/plain": [
       "(164, 25, 5)"
      ]
     },
     "execution_count": 24,
     "metadata": {},
     "output_type": "execute_result"
    }
   ],
   "source": [
    "data2.shape"
   ]
  },
  {
   "cell_type": "code",
   "execution_count": 5,
   "id": "c06e8350",
   "metadata": {},
   "outputs": [],
   "source": [
    "subtr=data[2,3,:]"
   ]
  },
  {
   "cell_type": "code",
   "execution_count": 6,
   "id": "7d640504",
   "metadata": {},
   "outputs": [
    {
     "data": {
      "text/plain": [
       "array([ 0.   , -0.017,  0.   ,  1.   ,  0.   ])"
      ]
     },
     "execution_count": 6,
     "metadata": {},
     "output_type": "execute_result"
    }
   ],
   "source": [
    "subtr"
   ]
  },
  {
   "cell_type": "code",
   "execution_count": 12,
   "id": "6b32e102",
   "metadata": {},
   "outputs": [],
   "source": [
    "data=data+subtr"
   ]
  },
  {
   "cell_type": "code",
   "execution_count": 13,
   "id": "18e9e687",
   "metadata": {},
   "outputs": [
    {
     "data": {
      "text/plain": [
       "array([[ 0.   , -0.051,  0.   ,  3.   ,  0.   ],\n",
       "       [ 0.   , -0.051,  0.   ,  3.   ,  0.   ],\n",
       "       [ 0.   , -0.051,  0.   ,  3.   ,  0.   ],\n",
       "       [ 0.   , -0.051,  0.   ,  3.   ,  0.   ],\n",
       "       [ 0.   , -0.051,  0.   ,  3.   ,  0.   ],\n",
       "       [ 0.   , -0.051,  0.   ,  3.   ,  0.   ],\n",
       "       [ 0.   , -0.051,  0.   ,  3.   ,  0.   ],\n",
       "       [ 0.   , -0.051,  0.   ,  3.   ,  0.   ],\n",
       "       [ 0.   , -0.051,  0.   ,  3.   ,  0.   ],\n",
       "       [ 0.   , -0.051,  0.   ,  3.   ,  0.   ],\n",
       "       [ 0.   , -0.051,  0.   ,  3.   ,  0.   ],\n",
       "       [ 0.   , -0.051,  0.   ,  3.   ,  0.   ],\n",
       "       [ 0.   , -0.051,  0.   ,  3.   ,  0.   ],\n",
       "       [ 0.   , -0.051,  0.   ,  3.   ,  0.   ],\n",
       "       [ 0.   , -0.051,  0.   ,  3.   ,  0.   ],\n",
       "       [ 0.   , -0.051,  0.   ,  3.   ,  0.   ],\n",
       "       [ 0.   , -0.051,  0.   ,  3.   ,  0.   ],\n",
       "       [ 0.   , -0.051,  0.   ,  3.   ,  0.   ],\n",
       "       [ 0.   , -0.051,  0.   ,  3.   ,  0.   ],\n",
       "       [ 0.   , -0.051,  0.   ,  3.   ,  0.   ],\n",
       "       [ 0.   , -0.051,  0.   ,  3.   ,  0.   ],\n",
       "       [ 0.   , -0.051,  0.   ,  3.   ,  0.   ],\n",
       "       [ 0.   , -0.051,  0.   ,  3.   ,  0.   ],\n",
       "       [ 0.   , -0.051,  0.   ,  3.   ,  0.   ],\n",
       "       [ 0.   , -0.051,  0.   ,  3.   ,  0.   ]])"
      ]
     },
     "execution_count": 13,
     "metadata": {},
     "output_type": "execute_result"
    }
   ],
   "source": [
    "data[0]"
   ]
  },
  {
   "cell_type": "code",
   "execution_count": 2,
   "id": "9a98f657",
   "metadata": {},
   "outputs": [],
   "source": [
    "a,b = load_data(\"data_example\", split='train')"
   ]
  },
  {
   "cell_type": "code",
   "execution_count": 8,
   "id": "43c4570b",
   "metadata": {},
   "outputs": [],
   "source": [
    "dataset = MotionDataset(\n",
    "    \"gait\",\n",
    "    a,\n",
    "    b,\n",
    "    input_motion_length=200,\n",
    ")"
   ]
  },
  {
   "cell_type": "code",
   "execution_count": 9,
   "id": "b422f2a3",
   "metadata": {},
   "outputs": [],
   "source": [
    "dataloader = get_dataloader(\n",
    "    dataset, \"train\", batch_size=2, num_workers=2\n",
    ")"
   ]
  },
  {
   "cell_type": "code",
   "execution_count": 10,
   "id": "de0a7821",
   "metadata": {},
   "outputs": [
    {
     "name": "stdout",
     "output_type": "stream",
     "text": [
      "8\n",
      "<class 'data_loaders.dataloader3d.MotionDataset'>\n"
     ]
    }
   ],
   "source": [
    "print(len(dataset))        # number of samples\n",
    "print(type(dataset))  "
   ]
  },
  {
   "cell_type": "code",
   "execution_count": 11,
   "id": "a83cf5e9",
   "metadata": {},
   "outputs": [
    {
     "name": "stdout",
     "output_type": "stream",
     "text": [
      "torch.Size([200, 75]) torch.Size([200, 75])\n"
     ]
    }
   ],
   "source": [
    "img, label = dataset[0]\n",
    "print(img.shape, label.shape)  # shapes of the first sample"
   ]
  },
  {
   "cell_type": "code",
   "execution_count": null,
   "id": "a50d7eeb",
   "metadata": {},
   "outputs": [
    {
     "data": {
      "text/plain": [
       "torch.Size([75])"
      ]
     },
     "execution_count": 18,
     "metadata": {},
     "output_type": "execute_result"
    }
   ],
   "source": [
    "img[122]"
   ]
  },
  {
   "cell_type": "code",
   "execution_count": 14,
   "id": "32bfde75",
   "metadata": {},
   "outputs": [
    {
     "name": "stdout",
     "output_type": "stream",
     "text": [
      "torch.Size([122, 75])\n",
      "torch.Size([48, 75])\n"
     ]
    }
   ],
   "source": [
    "i=0\n",
    "print(a[i].shape)\n",
    "print(b[i].shape)"
   ]
  },
  {
   "cell_type": "code",
   "execution_count": null,
   "id": "6857b38b",
   "metadata": {},
   "outputs": [],
   "source": [
    "data=np.load(\"data_example/700/vitpose_c1_a4_2/vitpose/keypoints_3d/smpl-keypoints-3d_cut.npy\")\n",
    "data2=np.load(\"data_example/700/vitpose_c2_a4_2/vitpose/keypoints_3d/smpl-keypoints-3d_cut.npy\")\n",
    "data= drop_duplicate_frames(data)\n",
    "data2= drop_duplicate_frames(data2)"
   ]
  },
  {
   "cell_type": "code",
   "execution_count": 17,
   "id": "7d271312",
   "metadata": {},
   "outputs": [
    {
     "name": "stdout",
     "output_type": "stream",
     "text": [
      "(164, 25, 5) (144, 25, 5)\n"
     ]
    }
   ],
   "source": [
    "print(data.shape, data2.shape)"
   ]
  },
  {
   "cell_type": "code",
   "execution_count": null,
   "id": "da1d2ab2",
   "metadata": {},
   "outputs": [],
   "source": []
  },
  {
   "cell_type": "code",
   "execution_count": null,
   "id": "50150eda",
   "metadata": {},
   "outputs": [],
   "source": [
    "for patient in os.listdir(\"data_example\"):\n",
    "    for file in sorted(os.listdir(os.path.join(\"data_example\", patient))):\n",
    "        take=file.split('_')\n",
    "        if take[1]=='c1':\n",
    "            #print(file)\n",
    "            tup=take[0]+'_c2_'+\"_\".join(take[2:])\n",
    "            #print('tuple:', tup)\n",
    "            mypath=os.path.join(\"data_example\", patient, file)\n",
    "            mypath=os.path.join(mypath,\"vitpose\", \"keypoints_3d\", \"smpl-keypoints-3d_cut.npy\")\n",
    "            print(mypath)\n",
    "            data=np.load(mypath)\n",
    "            print(np.load(mypath).shape)\n",
    "\n",
    "    "
   ]
  },
  {
   "cell_type": "code",
   "execution_count": 36,
   "id": "f91372cf",
   "metadata": {},
   "outputs": [],
   "source": [
    "data=np.load(\"data_example/753/vitpose_c1_a2_2/vitpose/keypoints_3d/smpl-keypoints-3d_cut.npy\")"
   ]
  },
  {
   "cell_type": "code",
   "execution_count": 37,
   "id": "1ba7c4e1",
   "metadata": {},
   "outputs": [
    {
     "data": {
      "text/plain": [
       "(240, 25, 5)"
      ]
     },
     "execution_count": 37,
     "metadata": {},
     "output_type": "execute_result"
    }
   ],
   "source": [
    "data.shape"
   ]
  },
  {
   "cell_type": "code",
   "execution_count": 38,
   "id": "0a4511b5",
   "metadata": {},
   "outputs": [
    {
     "data": {
      "text/plain": [
       "array([[-0.23823934,  1.0714808 , -0.38338893,  1.        ,  0.83414466],\n",
       "       [-0.09489101,  1.02682005, -0.27751971,  1.        ,  0.82904044],\n",
       "       [-0.01134131,  0.9267383 , -0.2228324 ,  1.        ,  0.88102578],\n",
       "       [-0.05039085,  0.92870613, -0.32763197,  1.        ,  0.84406707],\n",
       "       [-0.24162147,  1.02212285, -0.17851794,  1.        ,  0.82960045],\n",
       "       [-0.20045324,  0.94049425, -0.06676494,  1.        ,  0.89366241],\n",
       "       [-0.24709365,  0.87023268, -0.14836107,  1.        ,  0.82367277],\n",
       "       [-0.20412006,  0.73600104, -0.19329517,  1.        ,  0.75605737],\n",
       "       [-0.09916017,  0.72949511, -0.23106842,  1.        ,  0.75559718],\n",
       "       [-0.10435282,  0.53666127, -0.18343513,  1.        ,  0.8927588 ],\n",
       "       [-0.07538612,  0.34712743, -0.09905584,  1.        ,  0.83050084],\n",
       "       [-0.20412006,  0.73600104, -0.19329517,  1.        ,  0.75605737],\n",
       "       [-0.27130091,  0.58645559, -0.3199953 ,  1.        ,  0.90737803],\n",
       "       [-0.26406693,  0.43389444, -0.17351248,  1.        ,  0.8486948 ],\n",
       "       [-0.21947252,  1.09660415, -0.38954823,  1.        ,  0.82459132],\n",
       "       [-0.25377859,  1.09483275, -0.37860958,  1.        ,  0.81580232],\n",
       "       [-0.1521218 ,  1.11470166, -0.32883569,  1.        ,  0.79052549],\n",
       "       [-0.26499236,  1.11168262, -0.27560007,  1.        ,  0.79277964],\n",
       "       [-0.27101851,  0.30684733, -0.19782877,  1.        ,  0.8509189 ],\n",
       "       [-0.29379103,  0.32680612, -0.18551939,  1.        ,  0.80430701],\n",
       "       [-0.25443621,  0.43215423, -0.12762062,  1.        ,  0.74071247],\n",
       "       [-0.15070388,  0.2881989 , -0.17443026,  1.        ,  0.80541793],\n",
       "       [-0.11513863,  0.28701728, -0.1700658 ,  1.        ,  0.7481808 ],\n",
       "       [-0.05271529,  0.31989474, -0.06348213,  1.        ,  0.76254751]])"
      ]
     },
     "execution_count": 38,
     "metadata": {},
     "output_type": "execute_result"
    }
   ],
   "source": [
    "data=np.delete(data, 1, axis=1)\n",
    "data[100]"
   ]
  },
  {
   "cell_type": "code",
   "execution_count": null,
   "id": "a6e043c7",
   "metadata": {},
   "outputs": [],
   "source": [
    "print(data.shape)"
   ]
  },
  {
   "cell_type": "code",
   "execution_count": null,
   "id": "9d8ed1b8",
   "metadata": {},
   "outputs": [],
   "source": [
    "tdata=data.reshape(-1,75)"
   ]
  },
  {
   "cell_type": "code",
   "execution_count": null,
   "id": "24cfda8b",
   "metadata": {},
   "outputs": [],
   "source": []
  },
  {
   "cell_type": "code",
   "execution_count": null,
   "id": "aa5f30d6",
   "metadata": {},
   "outputs": [],
   "source": []
  },
  {
   "cell_type": "code",
   "execution_count": null,
   "id": "4bdef4bb",
   "metadata": {},
   "outputs": [],
   "source": []
  }
 ],
 "metadata": {
  "kernelspec": {
   "display_name": "Python 3",
   "language": "python",
   "name": "python3"
  },
  "language_info": {
   "codemirror_mode": {
    "name": "ipython",
    "version": 3
   },
   "file_extension": ".py",
   "mimetype": "text/x-python",
   "name": "python",
   "nbconvert_exporter": "python",
   "pygments_lexer": "ipython3",
   "version": "3.12.6"
  }
 },
 "nbformat": 4,
 "nbformat_minor": 5
}
