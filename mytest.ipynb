{
 "cells": [
  {
   "cell_type": "code",
   "execution_count": 1,
   "id": "d227889c",
   "metadata": {},
   "outputs": [],
   "source": [
    "import numpy as np\n",
    "import os\n",
    "import glob\n",
    "import torch\n",
    "from data_loaders.dataloader3d import get_dataloader, load_data, MotionDataset"
   ]
  },
  {
   "cell_type": "code",
   "execution_count": 13,
   "id": "b6a58052",
   "metadata": {},
   "outputs": [],
   "source": [
    "def drop_duplicate_frames(data):\n",
    "    \"\"\"\n",
    "    Drop frames where all 25 rows are identical.\n",
    "    \n",
    "    Parameters:\n",
    "    -----------\n",
    "    data : numpy.ndarray\n",
    "        Array with shape (frames, 25, 5)\n",
    "    \n",
    "    Returns:\n",
    "    --------\n",
    "    numpy.ndarray\n",
    "        Filtered array with duplicate frames removed\n",
    "    \"\"\"\n",
    "    first_row = data[:, 0:1, :]  # Shape: (frames, 1, 5)\n",
    "    all_rows_same = np.all(data == first_row, axis=(1,2))\n",
    "\n",
    "    mask = ~all_rows_same\n",
    "    return data[mask]"
   ]
  },
  {
   "cell_type": "code",
   "execution_count": 2,
   "id": "9a98f657",
   "metadata": {},
   "outputs": [],
   "source": [
    "a,b = load_data(\"data_example\", split='train')"
   ]
  },
  {
   "cell_type": "code",
   "execution_count": 8,
   "id": "43c4570b",
   "metadata": {},
   "outputs": [],
   "source": [
    "dataset = MotionDataset(\n",
    "    \"gait\",\n",
    "    a,\n",
    "    b,\n",
    "    input_motion_length=200,\n",
    ")"
   ]
  },
  {
   "cell_type": "code",
   "execution_count": 9,
   "id": "b422f2a3",
   "metadata": {},
   "outputs": [],
   "source": [
    "dataloader = get_dataloader(\n",
    "    dataset, \"train\", batch_size=2, num_workers=2\n",
    ")"
   ]
  },
  {
   "cell_type": "code",
   "execution_count": 10,
   "id": "de0a7821",
   "metadata": {},
   "outputs": [
    {
     "name": "stdout",
     "output_type": "stream",
     "text": [
      "8\n",
      "<class 'data_loaders.dataloader3d.MotionDataset'>\n"
     ]
    }
   ],
   "source": [
    "print(len(dataset))        # number of samples\n",
    "print(type(dataset))  "
   ]
  },
  {
   "cell_type": "code",
   "execution_count": 11,
   "id": "a83cf5e9",
   "metadata": {},
   "outputs": [
    {
     "name": "stdout",
     "output_type": "stream",
     "text": [
      "torch.Size([200, 75]) torch.Size([200, 75])\n"
     ]
    }
   ],
   "source": [
    "img, label = dataset[0]\n",
    "print(img.shape, label.shape)  # shapes of the first sample"
   ]
  },
  {
   "cell_type": "code",
   "execution_count": null,
   "id": "a50d7eeb",
   "metadata": {},
   "outputs": [
    {
     "data": {
      "text/plain": [
       "torch.Size([75])"
      ]
     },
     "execution_count": 18,
     "metadata": {},
     "output_type": "execute_result"
    }
   ],
   "source": [
    "img[122]"
   ]
  },
  {
   "cell_type": "code",
   "execution_count": 14,
   "id": "32bfde75",
   "metadata": {},
   "outputs": [
    {
     "name": "stdout",
     "output_type": "stream",
     "text": [
      "torch.Size([122, 75])\n",
      "torch.Size([48, 75])\n"
     ]
    }
   ],
   "source": [
    "i=0\n",
    "print(a[i].shape)\n",
    "print(b[i].shape)"
   ]
  },
  {
   "cell_type": "code",
   "execution_count": 16,
   "id": "6857b38b",
   "metadata": {},
   "outputs": [],
   "source": [
    "data=np.load(\"data_example/700/vitpose_c1_a4_2/vitpose/keypoints_3d/smpl-keypoints-3d_cut.npy\")\n",
    "data2=np.load(\"data_example/700/vitpose_c2_a4_2/vitpose/keypoints_3d/smpl-keypoints-3d_cut.npy\")\n",
    "data= drop_duplicate_frames(data)\n",
    "data2= drop_duplicate_frames(data2)\n",
    "\n"
   ]
  },
  {
   "cell_type": "code",
   "execution_count": 17,
   "id": "7d271312",
   "metadata": {},
   "outputs": [
    {
     "name": "stdout",
     "output_type": "stream",
     "text": [
      "(164, 25, 5) (144, 25, 5)\n"
     ]
    }
   ],
   "source": [
    "print(data.shape, data2.shape)"
   ]
  },
  {
   "cell_type": "code",
   "execution_count": null,
   "id": "da1d2ab2",
   "metadata": {},
   "outputs": [],
   "source": []
  },
  {
   "cell_type": "code",
   "execution_count": null,
   "id": "50150eda",
   "metadata": {},
   "outputs": [],
   "source": [
    "for patient in os.listdir(\"data_example\"):\n",
    "    for file in sorted(os.listdir(os.path.join(\"data_example\", patient))):\n",
    "        take=file.split('_')\n",
    "        if take[1]=='c1':\n",
    "            #print(file)\n",
    "            tup=take[0]+'_c2_'+\"_\".join(take[2:])\n",
    "            #print('tuple:', tup)\n",
    "            mypath=os.path.join(\"data_example\", patient, file)\n",
    "            mypath=os.path.join(mypath,\"vitpose\", \"keypoints_3d\", \"smpl-keypoints-3d_cut.npy\")\n",
    "            print(mypath)\n",
    "            data=np.load(mypath)\n",
    "            print(np.load(mypath).shape)\n",
    "\n",
    "    "
   ]
  },
  {
   "cell_type": "code",
   "execution_count": null,
   "id": "f91372cf",
   "metadata": {},
   "outputs": [],
   "source": [
    "data=np.load(\"data_example/753/vitpose_c1_a2_2/vitpose/keypoints_3d/smpl-keypoints-3d_cut.npy\")"
   ]
  },
  {
   "cell_type": "code",
   "execution_count": null,
   "id": "1ba7c4e1",
   "metadata": {},
   "outputs": [],
   "source": [
    "data.shape"
   ]
  },
  {
   "cell_type": "code",
   "execution_count": null,
   "id": "0a4511b5",
   "metadata": {},
   "outputs": [],
   "source": [
    "data=data[...,:3]"
   ]
  },
  {
   "cell_type": "code",
   "execution_count": null,
   "id": "a6e043c7",
   "metadata": {},
   "outputs": [],
   "source": [
    "print(data.shape)"
   ]
  },
  {
   "cell_type": "code",
   "execution_count": null,
   "id": "9d8ed1b8",
   "metadata": {},
   "outputs": [],
   "source": [
    "tdata=data.reshape(-1,75)"
   ]
  },
  {
   "cell_type": "code",
   "execution_count": null,
   "id": "24cfda8b",
   "metadata": {},
   "outputs": [],
   "source": []
  },
  {
   "cell_type": "code",
   "execution_count": null,
   "id": "aa5f30d6",
   "metadata": {},
   "outputs": [],
   "source": []
  },
  {
   "cell_type": "code",
   "execution_count": null,
   "id": "4bdef4bb",
   "metadata": {},
   "outputs": [],
   "source": []
  }
 ],
 "metadata": {
  "kernelspec": {
   "display_name": "Python 3",
   "language": "python",
   "name": "python3"
  },
  "language_info": {
   "codemirror_mode": {
    "name": "ipython",
    "version": 3
   },
   "file_extension": ".py",
   "mimetype": "text/x-python",
   "name": "python",
   "nbconvert_exporter": "python",
   "pygments_lexer": "ipython3",
   "version": "3.12.6"
  }
 },
 "nbformat": 4,
 "nbformat_minor": 5
}
