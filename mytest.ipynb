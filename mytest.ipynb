{
 "cells": [
  {
   "cell_type": "code",
   "execution_count": 24,
   "id": "d227889c",
   "metadata": {},
   "outputs": [],
   "source": [
    "import numpy as np\n",
    "import os\n",
    "import glob\n",
    "import torch\n",
    "from data_loaders.dataloader3d import get_dataloader, load_data, MotionDataset"
   ]
  },
  {
   "cell_type": "code",
   "execution_count": 25,
   "id": "814a927f",
   "metadata": {},
   "outputs": [],
   "source": [
    "def subtract_root(data):\n",
    "    #only after frames have been cut\n",
    "    root = (data[0,8,:]+data[0, 9, :])/2\n",
    "    return data - root"
   ]
  },
  {
   "cell_type": "code",
   "execution_count": 26,
   "id": "b6a58052",
   "metadata": {},
   "outputs": [],
   "source": [
    "def drop_duplicate_frames(data):\n",
    "    \"\"\"\n",
    "    Drop frames where all 25 rows are identical.\n",
    "    \n",
    "    Parameters:\n",
    "    -----------\n",
    "    data : numpy.ndarray\n",
    "        Array with shape (frames, 25, 5)\n",
    "    \n",
    "    Returns:\n",
    "    --------\n",
    "    numpy.ndarray\n",
    "        Filtered array with duplicate frames removed\n",
    "    \"\"\"\n",
    "    first_row = data[:, 0:1, :]  # Shape: (frames, 1, 5)\n",
    "    all_rows_same = np.all(data == first_row, axis=(1,2))\n",
    "\n",
    "    mask = ~all_rows_same\n",
    "    return data[mask]"
   ]
  },
  {
   "cell_type": "code",
   "execution_count": 16,
   "id": "acf76a5f",
   "metadata": {},
   "outputs": [],
   "source": [
    "data=np.load(\"data_example/700/vitpose_c1_a4_2/vitpose/keypoints_3d/smpl-keypoints-3d_cut.npy\")"
   ]
  },
  {
   "cell_type": "code",
   "execution_count": 27,
   "id": "9a98f657",
   "metadata": {},
   "outputs": [],
   "source": [
    "a,b = load_data(\"data_example\", split='train')"
   ]
  },
  {
   "cell_type": "code",
   "execution_count": 28,
   "id": "43c4570b",
   "metadata": {},
   "outputs": [],
   "source": [
    "dataset = MotionDataset(\n",
    "    \"gait\",\n",
    "    a,\n",
    "    b,\n",
    "    input_motion_length=200,\n",
    ")"
   ]
  },
  {
   "cell_type": "code",
   "execution_count": 29,
   "id": "b422f2a3",
   "metadata": {},
   "outputs": [],
   "source": [
    "dataloader = get_dataloader(\n",
    "    dataset, \"train\", batch_size=2, num_workers=2\n",
    ")"
   ]
  },
  {
   "cell_type": "code",
   "execution_count": 30,
   "id": "de0a7821",
   "metadata": {},
   "outputs": [
    {
     "name": "stdout",
     "output_type": "stream",
     "text": [
      "8\n",
      "<class 'data_loaders.dataloader3d.MotionDataset'>\n"
     ]
    }
   ],
   "source": [
    "print(len(dataset))        # number of samples\n",
    "print(type(dataset))  "
   ]
  },
  {
   "cell_type": "code",
   "execution_count": 31,
   "id": "a83cf5e9",
   "metadata": {},
   "outputs": [
    {
     "name": "stdout",
     "output_type": "stream",
     "text": [
      "torch.Size([200, 72]) torch.Size([200, 72])\n"
     ]
    }
   ],
   "source": [
    "img, label = dataset[0]\n",
    "print(img.shape, label.shape)  # shapes of the first sample"
   ]
  },
  {
   "cell_type": "code",
   "execution_count": 37,
   "id": "32bfde75",
   "metadata": {},
   "outputs": [
    {
     "name": "stdout",
     "output_type": "stream",
     "text": [
      "torch.Size([286, 72])\n",
      "torch.Size([215, 72])\n"
     ]
    }
   ],
   "source": [
    "i=2\n",
    "print(a[i].shape)\n",
    "print(b[i].shape)"
   ]
  },
  {
   "cell_type": "code",
   "execution_count": 44,
   "id": "e740148c",
   "metadata": {},
   "outputs": [],
   "source": [
    "np.save(\"test.npy\", a[2].numpy().reshape(-1, 24, 3))"
   ]
  },
  {
   "cell_type": "code",
   "execution_count": 45,
   "id": "6857b38b",
   "metadata": {},
   "outputs": [],
   "source": [
    "data=np.load(\"data_example/700/vitpose_c1_a4_2/vitpose/keypoints_3d/smpl-keypoints-3d_cut.npy\")\n",
    "data2=np.load(\"data_example/700/vitpose_c2_a4_2/vitpose/keypoints_3d/smpl-keypoints-3d_cut.npy\")\n",
    "data= drop_duplicate_frames(data)\n",
    "data2= drop_duplicate_frames(data2)"
   ]
  },
  {
   "cell_type": "code",
   "execution_count": 46,
   "id": "7d271312",
   "metadata": {},
   "outputs": [
    {
     "name": "stdout",
     "output_type": "stream",
     "text": [
      "(164, 25, 5) (144, 25, 5)\n"
     ]
    }
   ],
   "source": [
    "print(data.shape, data2.shape)"
   ]
  },
  {
   "cell_type": "code",
   "execution_count": 47,
   "id": "da1d2ab2",
   "metadata": {},
   "outputs": [
    {
     "data": {
      "text/plain": [
       "array([[ 0.53316845,  1.12275737,  1.54915479,  1.        ,  0.89434521],\n",
       "       [ 0.        , -0.017     ,  0.        ,  1.        ,  0.        ],\n",
       "       [ 0.63908229,  0.99874862,  1.63679803,  1.        ,  0.8582757 ],\n",
       "       [ 0.61043454,  0.85944287,  1.59898479,  1.        ,  0.84930058],\n",
       "       [ 0.49220455,  0.90823303,  1.52842549,  1.        ,  0.76947219],\n",
       "       [ 0.46176408,  1.03433563,  1.69113196,  1.        ,  0.79168378],\n",
       "       [ 0.3863954 ,  0.89713435,  1.68175792,  1.        ,  0.77782794],\n",
       "       [ 0.44405666,  0.88686272,  1.5564442 ,  1.        ,  0.78497881],\n",
       "       [ 0.45262988,  0.7499819 ,  1.71043593,  1.        ,  0.65110128],\n",
       "       [ 0.56930233,  0.73652481,  1.68560533,  1.        ,  0.71418171],\n",
       "       [ 0.54378243,  0.54514479,  1.65412121,  1.        ,  0.83947771],\n",
       "       [ 0.57226591,  0.35314924,  1.66781841,  1.        ,  0.68290049],\n",
       "       [ 0.45262988,  0.7499819 ,  1.71043593,  1.        ,  0.65110128],\n",
       "       [ 0.43045909,  0.55620224,  1.66462601,  1.        ,  0.8078848 ],\n",
       "       [ 0.4628512 ,  0.40303765,  1.78418959,  1.        ,  0.67881187],\n",
       "       [ 0.56189925,  1.14282938,  1.54806194,  1.        ,  0.87963954],\n",
       "       [ 0.5232632 ,  1.15058661,  1.55903716,  1.        ,  0.89450406],\n",
       "       [ 0.62996104,  1.1303478 ,  1.60678501,  1.        ,  0.85298325],\n",
       "       [ 0.50701522,  1.15789602,  1.64338965,  1.        ,  0.78819453],\n",
       "       [ 0.45796209,  0.32812549,  1.69729591,  1.        ,  0.70724702],\n",
       "       [ 0.42739539,  0.34423477,  1.70869828,  1.        ,  0.68560196],\n",
       "       [ 0.47654473,  0.39222037,  1.82542791,  1.        ,  0.54388132],\n",
       "       [ 0.5020527 ,  0.31202803,  1.55985468,  1.        ,  0.66067614],\n",
       "       [ 0.54850132,  0.30585762,  1.56904608,  1.        ,  0.60357683],\n",
       "       [ 0.58948868,  0.32252077,  1.68662262,  1.        ,  0.59901891]])"
      ]
     },
     "execution_count": 47,
     "metadata": {},
     "output_type": "execute_result"
    }
   ],
   "source": [
    "data[0]"
   ]
  },
  {
   "cell_type": "code",
   "execution_count": null,
   "id": "50150eda",
   "metadata": {},
   "outputs": [],
   "source": [
    "for patient in os.listdir(\"data_example\"):\n",
    "    for file in sorted(os.listdir(os.path.join(\"data_example\", patient))):\n",
    "        take=file.split('_')\n",
    "        if take[1]=='c1':\n",
    "            #print(file)\n",
    "            tup=take[0]+'_c2_'+\"_\".join(take[2:])\n",
    "            #print('tuple:', tup)\n",
    "            mypath=os.path.join(\"data_example\", patient, file)\n",
    "            mypath=os.path.join(mypath,\"vitpose\", \"keypoints_3d\", \"smpl-keypoints-3d_cut.npy\")\n",
    "            print(mypath)\n",
    "            data=np.load(mypath)\n",
    "            print(np.load(mypath).shape)\n",
    "\n",
    "    "
   ]
  },
  {
   "cell_type": "code",
   "execution_count": 36,
   "id": "f91372cf",
   "metadata": {},
   "outputs": [],
   "source": [
    "data=np.load(\"data_example/753/vitpose_c1_a2_2/vitpose/keypoints_3d/smpl-keypoints-3d_cut.npy\")"
   ]
  },
  {
   "cell_type": "code",
   "execution_count": 37,
   "id": "1ba7c4e1",
   "metadata": {},
   "outputs": [
    {
     "data": {
      "text/plain": [
       "(240, 25, 5)"
      ]
     },
     "execution_count": 37,
     "metadata": {},
     "output_type": "execute_result"
    }
   ],
   "source": [
    "data.shape"
   ]
  },
  {
   "cell_type": "code",
   "execution_count": 38,
   "id": "0a4511b5",
   "metadata": {},
   "outputs": [
    {
     "data": {
      "text/plain": [
       "array([[-0.23823934,  1.0714808 , -0.38338893,  1.        ,  0.83414466],\n",
       "       [-0.09489101,  1.02682005, -0.27751971,  1.        ,  0.82904044],\n",
       "       [-0.01134131,  0.9267383 , -0.2228324 ,  1.        ,  0.88102578],\n",
       "       [-0.05039085,  0.92870613, -0.32763197,  1.        ,  0.84406707],\n",
       "       [-0.24162147,  1.02212285, -0.17851794,  1.        ,  0.82960045],\n",
       "       [-0.20045324,  0.94049425, -0.06676494,  1.        ,  0.89366241],\n",
       "       [-0.24709365,  0.87023268, -0.14836107,  1.        ,  0.82367277],\n",
       "       [-0.20412006,  0.73600104, -0.19329517,  1.        ,  0.75605737],\n",
       "       [-0.09916017,  0.72949511, -0.23106842,  1.        ,  0.75559718],\n",
       "       [-0.10435282,  0.53666127, -0.18343513,  1.        ,  0.8927588 ],\n",
       "       [-0.07538612,  0.34712743, -0.09905584,  1.        ,  0.83050084],\n",
       "       [-0.20412006,  0.73600104, -0.19329517,  1.        ,  0.75605737],\n",
       "       [-0.27130091,  0.58645559, -0.3199953 ,  1.        ,  0.90737803],\n",
       "       [-0.26406693,  0.43389444, -0.17351248,  1.        ,  0.8486948 ],\n",
       "       [-0.21947252,  1.09660415, -0.38954823,  1.        ,  0.82459132],\n",
       "       [-0.25377859,  1.09483275, -0.37860958,  1.        ,  0.81580232],\n",
       "       [-0.1521218 ,  1.11470166, -0.32883569,  1.        ,  0.79052549],\n",
       "       [-0.26499236,  1.11168262, -0.27560007,  1.        ,  0.79277964],\n",
       "       [-0.27101851,  0.30684733, -0.19782877,  1.        ,  0.8509189 ],\n",
       "       [-0.29379103,  0.32680612, -0.18551939,  1.        ,  0.80430701],\n",
       "       [-0.25443621,  0.43215423, -0.12762062,  1.        ,  0.74071247],\n",
       "       [-0.15070388,  0.2881989 , -0.17443026,  1.        ,  0.80541793],\n",
       "       [-0.11513863,  0.28701728, -0.1700658 ,  1.        ,  0.7481808 ],\n",
       "       [-0.05271529,  0.31989474, -0.06348213,  1.        ,  0.76254751]])"
      ]
     },
     "execution_count": 38,
     "metadata": {},
     "output_type": "execute_result"
    }
   ],
   "source": [
    "data=np.delete(data, 1, axis=1)\n",
    "data[100]"
   ]
  },
  {
   "cell_type": "code",
   "execution_count": null,
   "id": "a6e043c7",
   "metadata": {},
   "outputs": [],
   "source": [
    "print(data.shape)"
   ]
  },
  {
   "cell_type": "code",
   "execution_count": null,
   "id": "9d8ed1b8",
   "metadata": {},
   "outputs": [],
   "source": [
    "tdata=data.reshape(-1,75)"
   ]
  },
  {
   "cell_type": "code",
   "execution_count": null,
   "id": "24cfda8b",
   "metadata": {},
   "outputs": [],
   "source": []
  },
  {
   "cell_type": "code",
   "execution_count": null,
   "id": "aa5f30d6",
   "metadata": {},
   "outputs": [],
   "source": []
  },
  {
   "cell_type": "code",
   "execution_count": null,
   "id": "4bdef4bb",
   "metadata": {},
   "outputs": [],
   "source": []
  }
 ],
 "metadata": {
  "kernelspec": {
   "display_name": "Python 3",
   "language": "python",
   "name": "python3"
  },
  "language_info": {
   "codemirror_mode": {
    "name": "ipython",
    "version": 3
   },
   "file_extension": ".py",
   "mimetype": "text/x-python",
   "name": "python",
   "nbconvert_exporter": "python",
   "pygments_lexer": "ipython3",
   "version": "3.12.6"
  }
 },
 "nbformat": 4,
 "nbformat_minor": 5
}
