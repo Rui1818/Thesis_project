{
 "cells": [
  {
   "cell_type": "code",
   "execution_count": 8,
   "id": "d227889c",
   "metadata": {},
   "outputs": [],
   "source": [
    "import numpy as np\n",
    "import os\n",
    "import glob"
   ]
  },
  {
   "cell_type": "code",
   "execution_count": 6,
   "id": "50150eda",
   "metadata": {},
   "outputs": [
    {
     "name": "stdout",
     "output_type": "stream",
     "text": [
      "data_example\\700\\vitpose_c1_a4\\vitpose\\keypoints_3d\\smpl-keypoints-3d_cut.npy\n",
      "(240, 25, 5)\n",
      "data_example\\700\\vitpose_c1_a4_2\\vitpose\\keypoints_3d\\smpl-keypoints-3d_cut.npy\n",
      "(239, 25, 5)\n",
      "data_example\\700\\vitpose_c1_a5\\vitpose\\keypoints_3d\\smpl-keypoints-3d_cut.npy\n",
      "(359, 25, 5)\n",
      "data_example\\700\\vitpose_c1_a5_2\\vitpose\\keypoints_3d\\smpl-keypoints-3d_cut.npy\n",
      "(360, 25, 5)\n",
      "data_example\\753\\vitpose_c1_a1\\vitpose\\keypoints_3d\\smpl-keypoints-3d_cut.npy\n",
      "(239, 25, 5)\n",
      "data_example\\753\\vitpose_c1_a1_2\\vitpose\\keypoints_3d\\smpl-keypoints-3d_cut.npy\n",
      "(239, 25, 5)\n",
      "data_example\\753\\vitpose_c1_a2\\vitpose\\keypoints_3d\\smpl-keypoints-3d_cut.npy\n",
      "(239, 25, 5)\n",
      "data_example\\753\\vitpose_c1_a2_2\\vitpose\\keypoints_3d\\smpl-keypoints-3d_cut.npy\n",
      "(240, 25, 5)\n"
     ]
    }
   ],
   "source": [
    "for patient in os.listdir(\"data_example\"):\n",
    "    for file in sorted(os.listdir(os.path.join(\"data_example\", patient))):\n",
    "        take=file.split('_')\n",
    "        if take[1]=='c1':\n",
    "            #print(file)\n",
    "            tup=take[0]+'_c2_'+\"_\".join(take[2:])\n",
    "            #print('tuple:', tup)\n",
    "            mypath=os.path.join(\"data_example\", patient, file)\n",
    "            mypath=os.path.join(mypath,\"vitpose\", \"keypoints_3d\", \"smpl-keypoints-3d_cut.npy\")\n",
    "            print(mypath)\n",
    "            data=np.load(mypath)\n",
    "            print(np.load(mypath).shape)\n",
    "\n",
    "    "
   ]
  },
  {
   "cell_type": "code",
   "execution_count": null,
   "id": "f91372cf",
   "metadata": {},
   "outputs": [],
   "source": [
    "data=np.load(\"data_example/753/vitpose_c1_a2_2/vitpose/keypoints_3d/smpl-keypoints-3d_cut.npy\")"
   ]
  },
  {
   "cell_type": "code",
   "execution_count": 6,
   "id": "ae03451d",
   "metadata": {},
   "outputs": [
    {
     "data": {
      "text/plain": [
       "(25, 5)"
      ]
     },
     "execution_count": 6,
     "metadata": {},
     "output_type": "execute_result"
    }
   ],
   "source": [
    "data.shape"
   ]
  },
  {
   "cell_type": "code",
   "execution_count": 7,
   "id": "45bff872",
   "metadata": {},
   "outputs": [
    {
     "data": {
      "text/plain": [
       "array([-0.   , -0.017,  0.   ,  1.   ,  0.   ])"
      ]
     },
     "execution_count": 7,
     "metadata": {},
     "output_type": "execute_result"
    }
   ],
   "source": [
    "data[0]"
   ]
  },
  {
   "cell_type": "code",
   "execution_count": 10,
   "id": "09b3f4ca",
   "metadata": {},
   "outputs": [
    {
     "name": "stdout",
     "output_type": "stream",
     "text": [
      "True\n"
     ]
    }
   ],
   "source": [
    "import torch\n",
    "\n",
    "data = torch.randn(50, 25, 5)\n",
    "padding = torch.zeros(50, 25, 5)\n",
    "\n",
    "# Using list []\n",
    "result1 = torch.cat([data, padding], dim=0)\n",
    "\n",
    "# Using tuple ()\n",
    "result2 = torch.cat((data, padding), dim=0)\n",
    "\n",
    "# They're identical\n",
    "print(torch.equal(result1, result2))  # True"
   ]
  },
  {
   "cell_type": "code",
   "execution_count": 11,
   "id": "1aa0c6d1",
   "metadata": {},
   "outputs": [
    {
     "data": {
      "text/plain": [
       "torch.Size([100, 25, 5])"
      ]
     },
     "execution_count": 11,
     "metadata": {},
     "output_type": "execute_result"
    }
   ],
   "source": [
    "result1.shape  # torch.Size([100, 25, 5])"
   ]
  },
  {
   "cell_type": "code",
   "execution_count": null,
   "id": "24cfda8b",
   "metadata": {},
   "outputs": [],
   "source": []
  },
  {
   "cell_type": "code",
   "execution_count": null,
   "id": "aa5f30d6",
   "metadata": {},
   "outputs": [],
   "source": []
  },
  {
   "cell_type": "code",
   "execution_count": null,
   "id": "4bdef4bb",
   "metadata": {},
   "outputs": [],
   "source": []
  }
 ],
 "metadata": {
  "kernelspec": {
   "display_name": "Python 3",
   "language": "python",
   "name": "python3"
  },
  "language_info": {
   "codemirror_mode": {
    "name": "ipython",
    "version": 3
   },
   "file_extension": ".py",
   "mimetype": "text/x-python",
   "name": "python",
   "nbconvert_exporter": "python",
   "pygments_lexer": "ipython3",
   "version": "3.12.6"
  }
 },
 "nbformat": 4,
 "nbformat_minor": 5
}
